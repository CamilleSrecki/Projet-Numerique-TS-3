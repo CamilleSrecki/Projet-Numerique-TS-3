{
 "cells": [
  {
   "cell_type": "markdown",
   "metadata": {},
   "source": [
    "# Projet Numérique : câble sous-marin\n",
    "\n",
    "\n",
    "## Enoncé du problème\n",
    "\n",
    "On cherche à estimer la longueur d'un câble sous-marin nécessaire pour relier deux côtes A et B en utilisant des simulations conditionnelles.\n",
    "\n",
    "* Le cable repose sur le fond marin dont la profondeur au point $x$ $z(x)$ est inconnue, \n",
    "\n",
    "* Le segment $[AB]$ est discrétisé par une séquence de N+1 points,\n",
    "\n",
    "* On pose :\n",
    "\n",
    "$$\\begin{cases}\n",
    "x_0 &= A \\\\\n",
    "x_i &= x_0 + i\\Delta \\\\\n",
    "\\Delta &= \\frac{AB}{N} \\\\\n",
    "x_N = B\n",
    "\\end{cases}$$\n",
    "\n",
    "* La longueur totale de câble nécessaire est: $$l=\\sum_{i=1}^N\\sqrt{\\Delta^2+(z(x_i)-z(x_{i-1}))^2}$$.\n",
    "\n",
    "* On a un ensemble de $n$ observations de la profondeur que l'on supposera situées sur des points de discrétisation $z(x_{j_1}),\\dots,z(x_{j_n})$\n",
    "\n",
    "### Modèle probabiliste\n",
    "\n",
    "On a le vecteur des profondeurs $\\mathbf{z}=(z(x_0),\\dots,z(x_N))$ la réalisation\n",
    "d'un vecteur aléatoire gaussien $\\mathbf{Z}=(Z(x_0),\\dots,Z(x_N))$. \n",
    "\n",
    "* Son vecteur d'espérance est $\\mu$ répété N+1 fois\n",
    "\n",
    "* Sa matrice de covariance $\\Sigma$, définie-positive, a pour termes $\\sigma_{ij}$ tels que $\\sigma_{ij}=C(|x_i-x_j|)$ avec $C$ une fonction décroissante\n",
    "\n",
    "Soit L la variable aléatoire donnant la longueur du câble :\n",
    "\n",
    "$$L=\\sum_{i=1}^N\\sqrt{\\Delta^2+(Z(x_i)-Z(x_{i-1}))^2}$$\n",
    "\n",
    "L'espérance conditionnelle fournit un bon estimateur $L^\\star$ de $L$ : $L^\\star=E \\,[L\\,|\\,Z(x_{j_1})=z(x_{j_1}),\\dots,Z(x_{j_n})=z(x_{j_n})]$\n",
    "\n",
    "On disposera ainsi d'un échantillon $l_{(1)},\\dots,l_{(K)}$ de \n",
    "longueures simulées. Puis on approchera l'espérance conditionnelle  par \n",
    "$$L^\\star=\\sum_{k=1}^K \\frac{1}{K} l_{(k)}.$$\n",
    "                                                                     "
   ]
  },
  {
   "cell_type": "markdown",
   "metadata": {},
   "source": [
    "## Questions théoriques\n",
    "\n",
    "1) On peut estimer l'espérance conditionnelle par la moyenne empirique de simulations conditionnelles grâce à la *loi forte des grands nombres*. En effet, on a des variables aléatoires indépendantes de même loi. \n",
    "\n",
    "Les variables $Z_1, Z_2, ..., Z_K$ correspondant à chacune des différentes simulations sont des variables aléatoires indépendantes de même loi et de carré intégrable car elles suivent une loi gaussienne.\n",
    "On peut donc utiliser la loi forte des grands nombres pour montrer que l'espérance conditionnelle peut bien être estimée par la moyenne empirique de simulation conditionnelle car on a une convergente presque sûre.\n",
    "\n",
    "On a donc bien pour K suffisamment grand, $$E\\,[L\\,|\\,Z(x_{j_1}),...,Z_{j_n}] \\simeq \\sum_{k=1}^K \\frac{1}{K} l_{(k)}$$"
   ]
  },
  {
   "cell_type": "markdown",
   "metadata": {},
   "source": [
    "2) On veut la loi conditionnelle du vecteur des composantes de Z correspondants aux points de discrétisation sans observation, connaissant les valeurs prises sur les composantes des sites d'observation.\n",
    "\n",
    "On veut donc connaitre la loi de $Y=Z \\; | \\; M=\\hat{m}$ où $Z=(Z(x_0),\\dots,Z(x_N))$ et où M est le vecteur des observations telles que $M=(\\hat{z_1}, \\dots, \\hat{z_N}) = \\hat{m}$.\n",
    "\n",
    "On sait que Z suit la loi gaussienne de paramètre $\\mu$ et de matrice de covariance $\\Sigma$. \n",
    "\n",
    "D'après le cours de proba IV page 13 sur les vecteurs gaussiens, Y suit donc une gaussienne d'espérance $$m_Y = \\vec{\\mu}-\\Sigma(Z,M)\\Sigma(M)^{-1}\\times(\\hat{m}-E[\\hat{m}]$$. \n",
    "\n",
    "Où $E[\\hat{m}]$ est la moyenne empirique des mesures $\\hat{m}$.\n",
    "\n",
    "De plus, $$C_Y = \\Sigma(Z) - \\Sigma(Z,M)\\Sigma(M)^{-1}\\Sigma(Z,M)$$.\n",
    "\n",
    "Les matrices étant symétriques dans notre cas, on a bien $\\Sigma(Z,M)=\\Sigma(M,Z)$.\n",
    "\n",
    "D'où $\\Sigma = (\\sigma_{k,l})$ où $\\sigma_{k,l} = C((x_k \\dots x_k))$."
   ]
  },
  {
   "cell_type": "markdown",
   "metadata": {},
   "source": [
    "3) *Si $\\mathbf{Y}=(Y_1,\\dots,Y_p)$ est un vecteur de composantes gaussiennes indépendantes, toutes d'espérance nulle et de variance 1, quelle est la loi du vecteur $\\mathbf{Z}=m+R\\mathbf{Y}$ où $R$ est une matrice $p\\times p$ inversible et $m$ est un vecteur de taille $p$ ?*\n",
    "\n",
    "Soit $Y = (Y_1, \\dots, Y_p)$ un vecteur de composantes gausiennes indépendantes, toutes d'espérance nulle et de variance 1.\n",
    "\n",
    "Alors, d'après le cours de Proba V (page 11), $Z=m+RY$ avec $m=E[Z]$ et $V[Z]=E[(RY)^2]=RI|R^t = RR^t$"
   ]
  },
  {
   "cell_type": "markdown",
   "metadata": {},
   "source": [
    "4) On veut simuler $Y=Z|\\hat{M}=\\hat{m}$.\n",
    "En entrée, on aura : $\\hat{m}$ la liste X des points d'observation, $\\mu$ et la fonction C ainsi que le tableau $(x_0, \\dots, x_N)$.\n",
    "\n",
    "On veut donc simuler Y défini tel que\n",
    "\n",
    "\\begin{cases}\n",
    "m_Y = \\vec{mu}-\\Sigma(Z,M)\\Sigma(M)^{-1}(\\hat{m}-E[\\hat{m}]) \\\\\n",
    "E_Y=\\Sigma(Z)-\\Sigma(Z,M)\\Sigma(M)^{-1}\\Sigma(Z)\n",
    "\\end{cases}\n"
   ]
  },
  {
   "cell_type": "markdown",
   "metadata": {},
   "source": [
    "On va donc simuler un vecteur $T=(T_0, \\dots, T_N)$ gaussien d'espérance nulle et de variance 1. On calcule $V_Y$ gràce à la relation $\\Sigma_Y=V_Y$ puis on détermine R avec la formule $V_Y=RR^t$ en utilisant la méthode de Chalesley.\n",
    "\n",
    "## Préambule"
   ]
  },
  {
   "cell_type": "code",
   "execution_count": 2,
   "metadata": {
    "collapsed": true
   },
   "outputs": [],
   "source": [
    "#Chargement de dépendances\n",
    "\n",
    "import numpy as np\n",
    "import matplotlib.pyplot as plt\n",
    "\n",
    "#Discrétisation\n",
    "A=0\n",
    "B=500\n",
    "N=101 #Nombre de points de discrétisation\n",
    "Delta = (B-A)/(N-1)\n",
    "discretization_indexes = np.arange(N)\n",
    "discretization = discretization_indexes*Delta\n",
    "#Paramètres du modèle\n",
    "\n",
    "mu=-5\n",
    "a = 50\n",
    "sigma2 = 12\n",
    "\n",
    "#Données\n",
    "\n",
    "observation_indexes = [0,20,40,60,80,100]\n",
    "depth = np.array([0,-4,-12.8,-1,-6.5,0])\n",
    "\n",
    "#Indices des composantes correspondant aux observations et aux componsantes non observées\n",
    "\n",
    "unknown_indexes=list(set(discretization_indexes)-set(observation_indexes))\n"
   ]
  },
  {
   "cell_type": "markdown",
   "metadata": {},
   "source": [
    "Ecrire une fonction qui prend en argument la distance entre les points, le paramètre $a$, et le paramètre $\\sigma^2$, et qui retourne la covariance entre deux points.\n",
    "On pourra fournir une matrice de distance à cette fonction. Dans ce cas, la fonction renverra la matrice de covariance."
   ]
  },
  {
   "cell_type": "code",
   "execution_count": null,
   "metadata": {
    "collapsed": true
   },
   "outputs": [],
   "source": []
  },
  {
   "cell_type": "markdown",
   "metadata": {},
   "source": [
    "Calculer la matrice de distance."
   ]
  },
  {
   "cell_type": "code",
   "execution_count": null,
   "metadata": {
    "collapsed": true
   },
   "outputs": [],
   "source": []
  },
  {
   "cell_type": "markdown",
   "metadata": {},
   "source": [
    "Calculer la matrice de covariance du vecteur $\\mathbf{Z}=(Z(x_0),\\dots,Z(x_N))$."
   ]
  },
  {
   "cell_type": "code",
   "execution_count": null,
   "metadata": {
    "collapsed": true
   },
   "outputs": [],
   "source": []
  },
  {
   "cell_type": "markdown",
   "metadata": {},
   "source": [
    "Extraire les 3 matrices de covariance suivantes :\n",
    "\n",
    " * entre les observations\n",
    "\n",
    " * entre les observations et les inconnues\n",
    "\n",
    " * entre les inconnues\n"
   ]
  },
  {
   "cell_type": "code",
   "execution_count": null,
   "metadata": {
    "collapsed": true
   },
   "outputs": [],
   "source": []
  },
  {
   "cell_type": "markdown",
   "metadata": {},
   "source": [
    "Calculer l'espérance conditionnelle des composantes non observées connaissant les observations et la représenter avec les données."
   ]
  },
  {
   "cell_type": "code",
   "execution_count": null,
   "metadata": {
    "collapsed": true
   },
   "outputs": [],
   "source": []
  },
  {
   "cell_type": "markdown",
   "metadata": {},
   "source": [
    "Calculer la matrice de covariance conditionnelle et tracer sa diagonale (variance conditionnelle) en fonction de la position. Commenter."
   ]
  },
  {
   "cell_type": "code",
   "execution_count": null,
   "metadata": {
    "collapsed": true
   },
   "outputs": [],
   "source": []
  },
  {
   "cell_type": "markdown",
   "metadata": {},
   "source": [
    "Effectuer une simulation conditionnelle. Sur un même graphique, tracer la simulation ainsi que les données et l'espérance conditionnelle. Commenter."
   ]
  },
  {
   "cell_type": "code",
   "execution_count": null,
   "metadata": {
    "collapsed": true
   },
   "outputs": [],
   "source": []
  },
  {
   "cell_type": "markdown",
   "metadata": {},
   "source": [
    "Ecrire une fonction qui calcule la longueur du câble en fonction du vecteur des profondeurs et du pas de discrétisation."
   ]
  },
  {
   "cell_type": "code",
   "execution_count": null,
   "metadata": {
    "collapsed": true
   },
   "outputs": [],
   "source": []
  },
  {
   "cell_type": "markdown",
   "metadata": {},
   "source": [
    "Utiliser cette fonction pour calculer la longueur du câble à partir de 100 simulations. Comparer l'espérance conditionnelle (estimée) de la longueur avec la longueur de l'espérance conditionnelle."
   ]
  },
  {
   "cell_type": "code",
   "execution_count": null,
   "metadata": {
    "collapsed": true
   },
   "outputs": [],
   "source": []
  },
  {
   "cell_type": "markdown",
   "metadata": {},
   "source": [
    "Représenter la suite $M_n$ des moyennes des longueurs de câbles en fonction du nombre de simulations. Commenter."
   ]
  },
  {
   "cell_type": "code",
   "execution_count": null,
   "metadata": {
    "collapsed": true
   },
   "outputs": [],
   "source": []
  },
  {
   "cell_type": "markdown",
   "metadata": {},
   "source": [
    "Représenter l'histogramme des longueurs de câbles générées."
   ]
  },
  {
   "cell_type": "code",
   "execution_count": null,
   "metadata": {
    "collapsed": true
   },
   "outputs": [],
   "source": []
  },
  {
   "cell_type": "markdown",
   "metadata": {},
   "source": [
    "Donner un intervalle de confiance à 95% de la longueur du câble par 2 méthodes différentes. Commenter."
   ]
  },
  {
   "cell_type": "code",
   "execution_count": null,
   "metadata": {
    "collapsed": true
   },
   "outputs": [],
   "source": []
  },
  {
   "cell_type": "markdown",
   "metadata": {},
   "source": [
    "Donner une estimation de la probabilité que la longueur du câble dépasse 525 m."
   ]
  },
  {
   "cell_type": "code",
   "execution_count": null,
   "metadata": {
    "collapsed": true
   },
   "outputs": [],
   "source": []
  },
  {
   "cell_type": "markdown",
   "metadata": {},
   "source": [
    "Reprendre les questions précédentes avec 1000, 10000 puis 100000 simulations. Commenter."
   ]
  },
  {
   "cell_type": "code",
   "execution_count": null,
   "metadata": {
    "collapsed": true
   },
   "outputs": [],
   "source": []
  }
 ],
 "metadata": {
  "kernelspec": {
   "display_name": "Python 3",
   "language": "python",
   "name": "python3"
  },
  "language_info": {
   "codemirror_mode": {
    "name": "ipython",
    "version": 3
   },
   "file_extension": ".py",
   "mimetype": "text/x-python",
   "name": "python",
   "nbconvert_exporter": "python",
   "pygments_lexer": "ipython3",
   "version": "3.7.3"
  }
 },
 "nbformat": 4,
 "nbformat_minor": 2
}
