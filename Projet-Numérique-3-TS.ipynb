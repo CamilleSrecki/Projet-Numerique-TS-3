{
 "cells": [
  {
   "cell_type": "markdown",
   "metadata": {},
   "source": [
    "# Projet Numérique : câble sous-marin\n",
    "\n",
    "\n",
    "## Enoncé du problème\n",
    "\n",
    "On cherche à estimer la longueur d'un câble sous-marin nécessaire pour relier deux côtes A et B en utilisant des simulations conditionnelles.\n",
    "\n",
    "* Le cable repose sur le fond marin dont la profondeur au point $x$ $z(x)$ est inconnue, \n",
    "\n",
    "* Le segment $[AB]$ est discrétisé par une séquence de N+1 points,\n",
    "\n",
    "* On pose :\n",
    "\n",
    "$$\\begin{cases}\n",
    "x_0 &= A \\\\\n",
    "x_i &= x_0 + i\\Delta \\\\\n",
    "\\Delta &= \\frac{AB}{N} \\\\\n",
    "x_N = B\n",
    "\\end{cases}$$\n",
    "\n",
    "* La longueur totale de câble nécessaire est: $$l=\\sum_{i=1}^N\\sqrt{\\Delta^2+(z(x_i)-z(x_{i-1}))^2}$$.\n",
    "\n",
    "* On a un ensemble de $n$ observations de la profondeur que l'on supposera situées sur des points de discrétisation $z(x_{j_1}),\\dots,z(x_{j_n})$\n",
    "\n",
    "### Modèle probabiliste\n",
    "\n",
    "On a le vecteur des profondeurs $\\mathbf{z}=(z(x_0),\\dots,z(x_N))$ la réalisation\n",
    "d'un vecteur aléatoire gaussien $\\mathbf{Z}=(Z(x_0),\\dots,Z(x_N))$. \n",
    "\n",
    "* Son vecteur d'espérance est $\\mu$ répété N+1 fois\n",
    "\n",
    "* Sa matrice de covariance $\\Sigma$, définie-positive, a pour termes $\\sigma_{ij}$ tels que $\\sigma_{ij}=C(|x_i-x_j|)$ avec $C$ une fonction décroissante\n",
    "\n",
    "Soit L la variable aléatoire donnant la longueur du câble :\n",
    "\n",
    "$$L=\\sum_{i=1}^N\\sqrt{\\Delta^2+(Z(x_i)-Z(x_{i-1}))^2}$$\n",
    "\n",
    "L'espérance conditionnelle fournit un bon estimateur $L^\\star$ de $L$ : $L^\\star=E \\,[L\\,|\\,Z(x_{j_1})=z(x_{j_1}),\\dots,Z(x_{j_n})=z(x_{j_n})]$\n",
    "\n",
    "On disposera ainsi d'un échantillon $l_{(1)},\\dots,l_{(K)}$ de \n",
    "longueures simulées. Puis on approchera l'espérance conditionnelle  par \n",
    "$$L^\\star=\\sum_{k=1}^K \\frac{1}{K} l_{(k)}.$$\n",
    "                                                                     "
   ]
  },
  {
   "cell_type": "markdown",
   "metadata": {},
   "source": [
    "## Questions théoriques\n",
    "\n",
    "1) On peut estimer l'espérance conditionnelle par la moyenne empirique de simulations conditionnelles grâce à la *loi forte des grands nombres*. En effet, on a des variables aléatoires indépendantes de même loi. \n",
    "\n",
    "Les variables $Z_1, Z_2, ..., Z_K$ correspondant à chacune des différentes simulations sont des variables aléatoires indépendantes de même loi et de carré intégrable car elles suivent une loi gaussienne.\n",
    "On peut donc utiliser la loi forte des grands nombres pour montrer que l'espérance conditionnelle peut bien être estimée par la moyenne empirique de simulation conditionnelle car on a une convergente presque sûre.\n",
    "\n",
    "En effet, on cherche à estimer l'espérance de la variable aléatoire $L|(Z_1=z_1,...,Z_n=z_n)$, c'est-à-dire $\\mathbb{E}(L|Z_1=z_1,...,Z_n=z_n)$. \n",
    "Pour $(z_i)_{i \\in \\mathbb{N}}$ fixé, on considère une suite de réalisations conditionnelles $(L_j|Z_i=z_i)_{j \\in \\mathbb{N}}$, toutes indépendantes et suivant la même loi que $L$ et intégrables.\n",
    "Alors, d'aprés la loi forte des grands nombres, la variable aléatoire \n",
    "\n",
    "$$M_n= \\frac{L_0|Z_i=z_i+ \\dots+ L_n|Z_i=z_i}{n}$$ \n",
    "\n",
    "correspondant à la moyenne empirique tend presque sûrement, lorque $n$ tend vers l'infini, vers l'espérance de $L|(Z_1=z_1,...,Z_n=z_n)$, soit\n",
    "\n",
    "$$M_n= \\frac{L_0|Z_i=z_i+ \\dots+ L_n|Z_i=z_i}{n} \\overset{p.s.}{\\underset{n \\rightarrow \\infty}{\\rightarrow}} \\mathbb{E}(L|(Z_1=z_1,...,Z_n=z_n))$$\n",
    "\n",
    "On a donc bien pour K suffisamment grand, $$E\\,[L\\,|\\,Z(x_{j_1}),...,Z(x_{j_n})] \\simeq \\sum_{k=1}^K \\frac{1}{K} l_{(k)}$$"
   ]
  },
  {
   "cell_type": "markdown",
   "metadata": {},
   "source": [
    "2) On veut la loi conditionnelle du vecteur des composantes de Z correspondants aux points de discrétisation sans observation, connaissant les valeurs prises sur les composantes des sites d'observation.\n",
    "\n",
    "On veut donc connaitre la loi de la variable aléatoire $Y=Z \\; | \\; M=\\hat{m}$ où $Z=(Z(x_0),\\dots,Z(x_N))$ et où M est le vecteur des observations qui prend une valeur particulière telle que $M=(\\hat{z_1}, \\dots, \\hat{z_N}) = \\hat{m}$.\n",
    "\n",
    "On sait que Z est un vecteur gaussien de paramètre $\\mu$ et de matrice de covariance $\\Sigma_Z$. \n",
    "\n",
    "On note aussi $\\Sigma_M$ la matrice de coavariance de $\\mathbf{M}$, soit la matrice de covariance entre les observations, et on notera $\\Sigma_{M,Z}$ la matrice de covariance entre les observations et les inconnues.\n",
    "\n",
    "D'après le cours de proba IV page 13 sur les vecteurs gaussiens à densité, Y est aussi un vecteur gaussien d'espérance $$m_Y = \\mathbb{E}(\\mathbf{Z}) + \\Sigma_{M,Z}^T \\cdot \\Sigma_M ^{-1} \\big(\\hat{m} - \\mathbb{E}(\\mathbf{M}) \\big) $$\n",
    " \n",
    "\n",
    "\n",
    "De plus, $$C_Y = \\Sigma(Z) - \\Sigma{M,Z}^T\\Sigma(M)^{-1}\\Sigma(M,Z)$$.\n",
    "\n",
    "Les matrices étant symétriques dans notre cas, on a bien $\\Sigma(Z,M)=\\Sigma(M,Z)$.\n",
    "\n",
    "D'où $\\Sigma = (\\sigma_{k,l})$ où $\\sigma_{k,l} = C((x_k \\dots x_k))$."
   ]
  },
  {
   "cell_type": "markdown",
   "metadata": {},
   "source": [
    "3) *Si $\\mathbf{Y}=(Y_1,\\dots,Y_p)$ est un vecteur de composantes gaussiennes indépendantes, toutes d'espérance nulle et de variance 1, quelle est la loi du vecteur $\\mathbf{Z}=m+R\\mathbf{Y}$ où $R$ est une matrice $p\\times p$ inversible et $m$ est un vecteur de taille $p$ ?*\n",
    "\n",
    "Soit $Y = (Y_1, \\dots, Y_p)$ un vecteur de composantes gausiennes indépendantes, toutes d'espérance nulle et de variance 1 c'est-à-dire un vecteur gaussien centré réduit.\n",
    "\n",
    "Alors, d'après le cours de Proba V (page 11), le vecteur aléatoire $Z$ défini par $Z=m+RY$ est tel que $E[Z]=m$ et $V[Z]=E[(RY)^2]=RI|R^t = RR^t$"
   ]
  },
  {
   "cell_type": "markdown",
   "metadata": {},
   "source": [
    "4) On veut simuler via un algorithme un vecteur gaussien $Y$ suivant la loi de  $Z|\\hat{M}=\\hat{m}$.\n",
    "En entrée, on aura : $\\hat{m}$, la liste X des points d'observation, $\\mu$ et la fonction C ainsi que le tableau $(x_0, \\dots, x_N)$.\n",
    "\n",
    "En se basant sur la question 2, on veut donc simuler Y défini tel que\n",
    "\n",
    "\\begin{cases}\n",
    "E(Y) = \\mathbb{E}(\\mathbf{Z}) + \\Sigma_{M,Z}^T \\cdot \\Sigma_M ^{-1}\\big(\\hat{m} - \\mathbb{E}(\\mathbf{M}) \\big) \\\\\n",
    "C_Y = \\Sigma(Z) - \\Sigma{M,Z}^T\\Sigma(M)^{-1}\\Sigma(M,Z)\n",
    "\\end{cases}\n"
   ]
  },
  {
   "cell_type": "markdown",
   "metadata": {},
   "source": [
    "On va donc simuler un vecteur $T=(T_0, \\dots, T_N)$ gaussien d'espérance nulle et de variance 1. On calcule $C_Y$ gràce à la relation défini plus haut puis on détermine R avec la formule $\\Sigma_Y=RR^t$ en utilisant la méthode de Cholesky et on retourne finalement Y.\n",
    "\n",
    "Nous proposons donc l'algorithme suivant:\n",
    "\n",
    "Entrées :\n",
    "\n",
    "La liste des points d'observation $X=(x_{j_1},\\dots,x_{j_n})$ \\\n",
    "Les observations en ces points $z = (z(x_{j_1}),\\dots,z(x_{j_n}))$ \\\n",
    "La moyenne des mesures $\\mu$ \\\n",
    "La liste des points de discrétisation $(x_0,\\dots,x_N)$ \\\n",
    "La fonction $C$ qui permettra d'obtenir les matrices de covariance\n",
    "\n",
    "Algorithme :\n",
    "\n",
    "On simule un vecteur gaussien centré réduit $\\mathbf{T} =(T_0, \\dots , T_N)$ \\\n",
    "On calcule $\\Sigma_Y = \\Sigma_Z - \\Sigma_{M,Z}^T \\cdot \\Sigma_M ^{-1} \\cdot \\Sigma_{M,Z}$ à partir de la fonction $C$ et des abscisses de discrétisation \\\n",
    "On effectue la décomposition de Cholesky de la matrice $\\Sigma_Y$ afin d'obtenir $R$ triangulaire inférieure telle que $\\Sigma_Y = R \\cdot R^T$ \\\n",
    "On calcule $\\mathbb{E}(\\mathbf{Y}) = \\mathbb{E}(\\mathbf{Z}) + \\Sigma_{M,Z}^T \\cdot \\Sigma_M ^{-1} \\big(\\hat{m} - \\mathbb{E}(\\mathbf{M}) \\big)$ sachant que l'espérance des observations est calculée selon la moyenne empirique $\\mathbb{E}(\\mathbf{M}) = \\frac{1}{n} \\sum_{i=1}^n x_{j_i}$\n",
    "\n",
    "Sortie :\n",
    "\n",
    "On renvoie $\\mathbf{Y} = \\mathbb{E}(\\mathbf{Y}) + R \\cdot \\mathbf{T}$\n",
    "\n",
    "\n",
    "\n",
    "## Préambule"
   ]
  },
  {
   "cell_type": "code",
   "execution_count": 1,
   "metadata": {
    "collapsed": true
   },
   "outputs": [],
   "source": [
    "#Chargement de dépendances\n",
    "\n",
    "import numpy as np\n",
    "import matplotlib.pyplot as plt\n",
    "from itertools import *\n",
    "from math import *\n",
    "\n",
    "#Discrétisation\n",
    "A=0\n",
    "B=500\n",
    "N=101 #Nombre de points de discrétisation\n",
    "Delta = (B-A)/(N-1)\n",
    "discretization_indexes = np.arange(N)\n",
    "discretization = discretization_indexes*Delta\n",
    "#Paramètres du modèle\n",
    "\n",
    "mu=-5\n",
    "a = 50\n",
    "sigma2 = 12\n",
    "\n",
    "#Données\n",
    "\n",
    "observation_indexes = [0,20,40,60,80,100]\n",
    "depth = np.array([0,-4,-12.8,-1,-6.5,0])\n",
    "\n",
    "#Indices des composantes correspondant aux observations et aux componsantes non observées\n",
    "\n",
    "unknown_indexes=list(set(discretization_indexes)-set(observation_indexes))\n"
   ]
  },
  {
   "cell_type": "markdown",
   "metadata": {},
   "source": [
    "1) Ecrire une fonction $C$ qui prend en argument la distance entre les points, le paramètre $a$, et le paramètre $\\sigma^2$, et qui retourne la covariance entre deux points.\n",
    "On pourra fournir une matrice de distance à cette fonction. Dans ce cas, la fonction renverra la matrice de covariance."
   ]
  },
  {
   "cell_type": "code",
   "execution_count": 2,
   "metadata": {
    "collapsed": true
   },
   "outputs": [],
   "source": [
    "def C(h, a=a, sigma2=sigma2):\n",
    "    return sigma2*np.exp(-h/a)\n",
    "\n",
    "#Afin de pouvoir appliquer la fonction à une matrice des distances et obtenir la matrice de covariance correspondante, on vectorise la fonction \n",
    "\n",
    "Covariance = np.vectorize(C)"
   ]
  },
  {
   "cell_type": "markdown",
   "metadata": {},
   "source": [
    "2) Calculer la matrice de distance."
   ]
  },
  {
   "cell_type": "code",
   "execution_count": 3,
   "metadata": {},
   "outputs": [
    {
     "data": {
      "text/plain": [
       "array([[   0.,    5.,   10., ...,  490.,  495.,  500.],\n",
       "       [   5.,    0.,    5., ...,  485.,  490.,  495.],\n",
       "       [  10.,    5.,    0., ...,  480.,  485.,  490.],\n",
       "       ..., \n",
       "       [ 490.,  485.,  480., ...,    0.,    5.,   10.],\n",
       "       [ 495.,  490.,  485., ...,    5.,    0.,    5.],\n",
       "       [ 500.,  495.,  490., ...,   10.,    5.,    0.]])"
      ]
     },
     "execution_count": 3,
     "metadata": {},
     "output_type": "execute_result"
    }
   ],
   "source": [
    "#On appelle la matrice de distance entre les inconnues distance\n",
    "\n",
    "distance = np.zeros((N,N),dtype=np.float64)\n",
    "\n",
    "for (i,j) in product(range(N),range(N)) :\n",
    "    distance[i,j] = abs(discretization[i]-discretization[j])\n",
    "        \n",
    "distance"
   ]
  },
  {
   "cell_type": "markdown",
   "metadata": {},
   "source": [
    "3) Calculer la matrice de covariance du vecteur $\\mathbf{Z}=(Z(x_0),\\dots,Z(x_N))$."
   ]
  },
  {
   "cell_type": "code",
   "execution_count": 4,
   "metadata": {
    "collapsed": true
   },
   "outputs": [],
   "source": [
    "Sigma_Z = C(distance) # matrice de covariance de Z"
   ]
  },
  {
   "cell_type": "markdown",
   "metadata": {},
   "source": [
    "4) Extraire les 3 matrices de covariance suivantes :\n",
    "\n",
    " * entre les observations\n",
    "\n",
    " * entre les observations et les inconnues\n",
    "\n",
    " * entre les inconnues\n"
   ]
  },
  {
   "cell_type": "code",
   "execution_count": 5,
   "metadata": {},
   "outputs": [
    {
     "name": "stdout",
     "output_type": "stream",
     "text": [
      "(6, 6)\n",
      "(95, 95)\n",
      "(6, 95)\n"
     ]
    }
   ],
   "source": [
    "Sigma_M = Sigma_Z[observation_indexes][:,observation_indexes] # matrice de covariance de M (observations)\n",
    "Sigma_inconnues = Sigma_Z[unknown_indexes][:,unknown_indexes] # matrice de covariance entre les inconnues\n",
    "Sigma_M_Z = Sigma_Z[observation_indexes][:,unknown_indexes] # matrice de covariance entre les observations et les inconnues\n",
    "\n",
    "print(Sigma_M.shape)\n",
    "print(Sigma_inconnues.shape)\n",
    "print(Sigma_M_Z.shape)"
   ]
  },
  {
   "cell_type": "markdown",
   "metadata": {},
   "source": [
    "5) Calculer l'espérance conditionnelle des composantes non observées connaissant les observations et la représenter avec les données."
   ]
  },
  {
   "cell_type": "code",
   "execution_count": 6,
   "metadata": {},
   "outputs": [
    {
     "data": {
      "image/png": "[encoded data removed]",
      "text/plain": [
       "<matplotlib.figure.Figure at 0x1a56f42ce10>"
      ]
     },
     "metadata": {},
     "output_type": "display_data"
    }
   ],
   "source": [
    "# On calcule l'espérance E_Y de la loi de la variable Y de la question 4. de la première partie \n",
    "\n",
    "n = len(observation_indexes)\n",
    "E_M = depth.mean()*np.ones(n) # moyenne empirique des observations\n",
    "E_Y = mu * np.ones(N-n) + np.dot(np.matrix.transpose(Sigma_M_Z), np.dot(np.linalg.inv(Sigma_M), depth - mu)) \n",
    "        # on peut remplacer mu par E_M ?\n",
    "\n",
    "# On implémente une fonction auxiliaire dont le but est de \"combiner\" les matrices des observations (M) \n",
    "# et celles des valeurs simulées (Simul)\n",
    "\n",
    "def matrice_tot(Simul,depth=depth,observation_indexes=observation_indexes) :\n",
    "    \"\"\"Effectue une fusion de deux vecteurs aleatoires, l'un des valeurs mesurees,\n",
    "    l'autre des valeurs simulees / des esperances simulees. Sert pour l'affichage notamment.\"\"\"\n",
    "    Simul = list(Simul)\n",
    "    for (compteur,i) in enumerate(observation_indexes):\n",
    "        Simul.insert(i,depth[compteur])\n",
    "    return Simul\n",
    "##\n",
    "\n",
    "plt.plot(Delta*np.arange(N), matrice_tot(E_Y))\n",
    "plt.xlabel('distance')\n",
    "plt.title('Espérance conditionnelle + données')\n",
    "plt.show()"
   ]
  },
  {
   "cell_type": "markdown",
   "metadata": {},
   "source": [
    "6) Calculer la matrice de covariance conditionnelle et tracer sa diagonale (variance conditionnelle) en fonction de la position. Commenter."
   ]
  },
  {
   "cell_type": "code",
   "execution_count": 7,
   "metadata": {
    "scrolled": true
   },
   "outputs": [
    {
     "data": {
      "image/png": "[encoded data removed]",
      "text/plain": [
       "<matplotlib.figure.Figure at 0x1a56f5b7a58>"
      ]
     },
     "metadata": {},
     "output_type": "display_data"
    }
   ],
   "source": [
    "Sigma_Y = Sigma_inconnues - np.dot(np.matrix.transpose(Sigma_M_Z), np.dot(np.linalg.inv(Sigma_M),Sigma_M_Z))\n",
    "\n",
    "diagonale = [Sigma_Y[i,i] for i in range(Sigma_Y.shape[0])]\n",
    "indexes = []\n",
    "for i in range(N):\n",
    "    if discretization[i] not in observation_indexes:\n",
    "        indexes.append(discretization[i])\n",
    "\n",
    "plt.plot(indexes, diagonale, \"g\")\n",
    "plt.title(\"Diagonale de la matrice de covariance conditionnelle \\n en fonction de la position\")\n",
    "plt.xlabel(\"Position\")\n",
    "plt.ylabel(\"Covariance\")\n",
    "plt.show()"
   ]
  },
  {
   "cell_type": "markdown",
   "metadata": {},
   "source": [
    "On constate que plus on s'éloigne des points d'observation, plus la covariance de la profondeur à une abscisse donnée augmente. En effet, l'incertitude augmente lorsque qu'on s'écarte des points d'observation. "
   ]
  },
  {
   "cell_type": "markdown",
   "metadata": {},
   "source": [
    "7) Effectuer une simulation conditionnelle. Sur un même graphique, tracer la simulation ainsi que les données et l'espérance conditionnelle. Commenter."
   ]
  },
  {
   "cell_type": "code",
   "execution_count": 8,
   "metadata": {},
   "outputs": [
    {
     "name": "stdout",
     "output_type": "stream",
     "text": [
      "(95,)\n"
     ]
    },
    {
     "data": {
      "image/png": "[encoded data removed]",
      "text/plain": [
       "<matplotlib.figure.Figure at 0x1a56f9df0b8>"
      ]
     },
     "metadata": {},
     "output_type": "display_data"
    }
   ],
   "source": [
    "# Décomposition de Cholesky\n",
    "R = np.linalg.cholesky(Sigma_Y)\n",
    "# Simulation d'un vecteur aléatoire T\n",
    "\n",
    "def simulation_Y() :\n",
    "    T = np.random.normal(size=N-n)\n",
    "    # Calcul de Y\n",
    "    return E_Y + np.dot(R,T)\n",
    "\n",
    "Y = simulation_Y()\n",
    "print(Y.shape)\n",
    "Z_tot= matrice_tot(Y, depth)\n",
    "\n",
    "plt.plot(Delta*np.arange(N), Z_tot, label=\"Simulation\")\n",
    "plt.plot(Delta*np.arange(N), matrice_tot(E_Y, depth), label=\"Espérance conditionnelle\")\n",
    "plt.legend()\n",
    "plt.xlabel(\"distance\")\n",
    "plt.ylabel(\"profondeur\")\n",
    "plt.show()"
   ]
  },
  {
   "cell_type": "markdown",
   "metadata": {},
   "source": [
    "On remarque que la simulation suit la tendance de l'espérance conditionnelle, même si on peut avoir en certains points de grandes variations."
   ]
  },
  {
   "cell_type": "markdown",
   "metadata": {},
   "source": [
    "8) Ecrire une fonction qui calcule la longueur du câble en fonction du vecteur des profondeurs et du pas de discrétisation."
   ]
  },
  {
   "cell_type": "code",
   "execution_count": 9,
   "metadata": {},
   "outputs": [
    {
     "name": "stdout",
     "output_type": "stream",
     "text": [
      "523.1090411326718\n"
     ]
    }
   ],
   "source": [
    "def longueur_cable(z, Delta=Delta):\n",
    "    l = 0\n",
    "    z=list(z)\n",
    "    for i in range(len(z)-1):\n",
    "        l += sqrt(Delta**2 + (z[i+1]-z[i])**2)\n",
    "    return l\n",
    "\n",
    "L=longueur_cable(Z_tot)\n",
    "print(L)"
   ]
  },
  {
   "cell_type": "markdown",
   "metadata": {},
   "source": [
    "9) Utiliser cette fonction pour calculer la longueur du câble à partir de 100 simulations. Comparer l'espérance conditionnelle (estimée) de la longueur avec la longueur de l'espérance conditionnelle."
   ]
  },
  {
   "cell_type": "code",
   "execution_count": 10,
   "metadata": {},
   "outputs": [
    {
     "name": "stdout",
     "output_type": "stream",
     "text": [
      "Espérance conditionnelle simulée : 522.302338645\n",
      "Espérance conditionnelle calculée : 501.6468416918411\n"
     ]
    }
   ],
   "source": [
    "Nbr_simul = 100\n",
    "\n",
    "simulations=[]\n",
    "L_sim=[]\n",
    "\n",
    "for k in range(Nbr_simul):\n",
    "    simulations.append(simulation_Y())\n",
    "\n",
    "for k in range(Nbr_simul):\n",
    "    L_sim.append(longueur_cable(matrice_tot(simulations[k])))\n",
    "    \n",
    "print(\"Espérance conditionnelle simulée :\", np.mean(L_sim))\n",
    "print(\"Espérance conditionnelle calculée :\", longueur_cable(matrice_tot(E_Y)))\n"
   ]
  },
  {
   "cell_type": "markdown",
   "metadata": {},
   "source": [
    "10) Représenter la suite $M_n$ des moyennes des longueurs de câbles en fonction du nombre de simulations. Commenter."
   ]
  },
  {
   "cell_type": "code",
   "execution_count": 11,
   "metadata": {},
   "outputs": [
    {
     "data": {
      "image/png": "[encoded data removed]",
      "text/plain": [
       "<matplotlib.figure.Figure at 0x1a56fbbd358>"
      ]
     },
     "metadata": {},
     "output_type": "display_data"
    }
   ],
   "source": [
    "Mn = []\n",
    "a=0\n",
    "for i in range(0,Nbr_simul):\n",
    "    a=a+L_sim[i]\n",
    "    Mn.append(a/(i+1))\n",
    "\n",
    "\n",
    "plt.plot(np.arange(1,Nbr_simul+1),Mn)\n",
    "plt.title(\"Evolution de la moyenne de la longueur du cable \\n en fonction du nombre de simulations\")\n",
    "plt.ylabel(\"Moyenne\")\n",
    "plt.xlabel(\"Nombre de simulation\")\n",
    "plt.show()"
   ]
  },
  {
   "cell_type": "markdown",
   "metadata": {},
   "source": [
    "On a bien une convergence quand le nombre de simulations augmente, ce qui est cohérent avec la loi des grands nombres."
   ]
  },
  {
   "cell_type": "markdown",
   "metadata": {},
   "source": [
    "11) Représenter l'histogramme des longueurs de câbles générées."
   ]
  },
  {
   "cell_type": "code",
   "execution_count": 12,
   "metadata": {},
   "outputs": [
    {
     "data": {
      "image/png": "[encoded data removed]",
      "text/plain": [
       "<matplotlib.figure.Figure at 0x1a56fb2c128>"
      ]
     },
     "metadata": {},
     "output_type": "display_data"
    }
   ],
   "source": [
    "plt.hist(Mn, int(max(Mn)-min(Mn))*2)\n",
    "plt.title(\"Longeurs de câbles\")\n",
    "plt.show()"
   ]
  },
  {
   "cell_type": "markdown",
   "metadata": {},
   "source": [
    "12) Donner un intervalle de confiance à 95% de la longueur du câble par 2 méthodes différentes. Commenter."
   ]
  },
  {
   "cell_type": "code",
   "execution_count": null,
   "metadata": {
    "collapsed": true
   },
   "outputs": [],
   "source": []
  },
  {
   "cell_type": "markdown",
   "metadata": {},
   "source": [
    "13) Donner une estimation de la probabilité que la longueur du câble dépasse 525 m."
   ]
  },
  {
   "cell_type": "code",
   "execution_count": null,
   "metadata": {
    "collapsed": true
   },
   "outputs": [],
   "source": []
  },
  {
   "cell_type": "markdown",
   "metadata": {},
   "source": [
    "14) Reprendre les questions précédentes avec 1000, 10000 puis 100000 simulations. Commenter."
   ]
  },
  {
   "cell_type": "code",
   "execution_count": null,
   "metadata": {
    "collapsed": true
   },
   "outputs": [],
   "source": []
  }
 ],
 "metadata": {
  "kernelspec": {
   "display_name": "Python 3",
   "language": "python",
   "name": "python3"
  },
  "language_info": {
   "codemirror_mode": {
    "name": "ipython",
    "version": 3
   },
   "file_extension": ".py",
   "mimetype": "text/x-python",
   "name": "python",
   "nbconvert_exporter": "python",
   "pygments_lexer": "ipython3",
   "version": "3.6.3"
  }
 },
 "nbformat": 4,
 "nbformat_minor": 2
}
